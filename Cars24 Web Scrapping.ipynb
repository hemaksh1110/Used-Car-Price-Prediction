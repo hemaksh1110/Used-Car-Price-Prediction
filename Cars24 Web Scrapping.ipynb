{
 "cells": [
  {
   "cell_type": "markdown",
   "metadata": {},
   "source": [
    "# Car Price Predictor Machine Learning Project "
   ]
  },
  {
   "cell_type": "markdown",
   "metadata": {},
   "source": [
    "### Step 1: Web Scraping Data"
   ]
  },
  {
   "cell_type": "markdown",
   "metadata": {},
   "source": [
    "Website: Cars24 \n",
    "\n",
    "link: https://www.cars24.com/buy-used-car?sort=bestmatch&serveWarrantyCount=true&storeCityId=2&pinId=110001\n",
    "\n",
    "Main Libraries Used: Selenium, BeautifulSoup"
   ]
  },
  {
   "cell_type": "code",
   "execution_count": 1,
   "metadata": {},
   "outputs": [],
   "source": [
    "import selenium\n",
    "import time\n",
    "from bs4 import BeautifulSoup\n",
    "import requests\n",
    "from urllib.parse import urljoin\n",
    "from selenium import webdriver\n",
    "from selenium.webdriver.common.by import By\n",
    "from selenium.webdriver.common.action_chains import ActionChains\n",
    "from selenium.webdriver.common.keys import Keys\n",
    "from webdriver_manager.chrome import ChromeDriverManager\n",
    "import pandas as pd\n",
    "import warnings\n",
    "warnings.filterwarnings('ignore')\n",
    "from selenium.webdriver.chrome.options import Options\n",
    "chrome_options = Options()\n",
    "chrome_options.add_argument(\"--headless\") \n",
    "from webdriver_manager.chrome import ChromeDriverManager"
   ]
  },
  {
   "cell_type": "code",
   "execution_count": 2,
   "metadata": {},
   "outputs": [],
   "source": [
    "url=\"https://www.cars24.com/buy-used-car?sort=bestmatch&serveWarrantyCount=true&storeCityId=2&pinId=110001\""
   ]
  },
  {
   "cell_type": "code",
   "execution_count": 3,
   "metadata": {},
   "outputs": [],
   "source": [
    "def get_details(soup):\n",
    "    n=soup.find_all('h2',{\"class\":\"_2lmIw\"})\n",
    "    g=soup.find_all('ul',{\"class\":\"_1hOnS\"})\n",
    "    h=soup.find_all('ul',{\"class\":\"_13yb6\"})\n",
    "    p=soup.find_all('div',{\"class\":\"_18ToE\"})\n",
    "    \n",
    "    year=[]\n",
    "    brand=[]\n",
    "    name=[]\n",
    "    transmission=[]\n",
    "    distance=[]\n",
    "    ownership=[]\n",
    "    fuel=[]\n",
    "    price=[]\n",
    "    \n",
    "    for i in n:\n",
    "        i=i.text\n",
    "        year.append(int(i[:4]))\n",
    "        brand.append(i.split(\" \")[1])\n",
    "        name.append(i[5:])\n",
    "        \n",
    "    for ul in g:\n",
    "        transmission.append(ul.find_all('li')[-1].text)\n",
    "        \n",
    "    for ul in h:\n",
    "        distance.append(int(ul.find_all('li')[0].text[:-3].replace(',', '')))\n",
    "        ownership.append(ul.find_all('li')[1].text)\n",
    "        fuel.append(ul.find_all('li')[2].text)\n",
    "        \n",
    "    for div in p:\n",
    "        price.append(int(div.find_all('span')[0].text[1:].replace(',', '')))\n",
    "        \n",
    "    return year,brand,name,transmission,distance,ownership,fuel,price"
   ]
  },
  {
   "cell_type": "code",
   "execution_count": 4,
   "metadata": {},
   "outputs": [],
   "source": [
    "def Web_Scrapping(url):\n",
    "    #driver = webdriver.Chrome(ChromeDriverManager().install())\n",
    "    driver = webdriver.Chrome('C:/Users/91981/Desktop/Python programs/chromedriver')\n",
    "    driver.get(url)\n",
    "    time.sleep(2)               # Allow 2 seconds for the web page to open\n",
    "    scroll_pause_time = 0.5 \n",
    "    screen_height = driver.execute_script(\"return window.screen.height;\")   # get the screen height of the web\n",
    "    i = 1\n",
    "\n",
    "    while True:\n",
    "        # scroll one screen height each time\n",
    "        driver.execute_script(\"window.scrollTo(0, {screen_height}*{i});\".format(screen_height=screen_height, i=i))  \n",
    "        i += 1\n",
    "        time.sleep(scroll_pause_time)\n",
    "        # update scroll height each time after scrolled, as the scroll height can change after we scrolled the page\n",
    "        scroll_height = driver.execute_script(\"return document.body.scrollHeight;\")  \n",
    "        # Break the loop when the height we need to scroll to is larger than the total scroll height\n",
    "        if (screen_height) * i > scroll_height:\n",
    "            break \n",
    "\n",
    "\n",
    "    soup = BeautifulSoup(driver.page_source, \"html.parser\")\n",
    "    driver.quit()\n",
    "    \n",
    "    year,brand,name,transmission,distance,ownership,fuel,price=get_details(soup)\n",
    "    df=pd.DataFrame({\"Year of Manufacture\":year,\"Brand\":brand,\"Name\":name,\"Transmission\":transmission,\n",
    "                   \"Distance Travelled(km)\":distance,\"Ownership\":ownership,\"Fuel\":fuel,\"Price(Rs)\":price})\n",
    "    return df"
   ]
  },
  {
   "cell_type": "code",
   "execution_count": 5,
   "metadata": {},
   "outputs": [
    {
     "ename": "SessionNotCreatedException",
     "evalue": "Message: session not created: This version of ChromeDriver only supports Chrome version 98\nCurrent browser version is 116.0.5845.96 with binary path C:\\Program Files (x86)\\Google\\Chrome\\Application\\chrome.exe\nStacktrace:\nBacktrace:\n\tOrdinal0 [0x00D77AC3+2587331]\n\tOrdinal0 [0x00D0ADD1+2141649]\n\tOrdinal0 [0x00C03BB8+1063864]\n\tOrdinal0 [0x00C23638+1193528]\n\tOrdinal0 [0x00C1F4B5+1176757]\n\tOrdinal0 [0x00C1CC51+1166417]\n\tOrdinal0 [0x00C4D12F+1364271]\n\tOrdinal0 [0x00C4CD5A+1363290]\n\tOrdinal0 [0x00C484A6+1344678]\n\tOrdinal0 [0x00C253F6+1201142]\n\tOrdinal0 [0x00C262E6+1204966]\n\tGetHandleVerifier [0x00F1DF22+1680738]\n\tGetHandleVerifier [0x00FD0DBC+2413564]\n\tGetHandleVerifier [0x00E0D151+563089]\n\tGetHandleVerifier [0x00E0BF13+558419]\n\tOrdinal0 [0x00D1081E+2164766]\n\tOrdinal0 [0x00D15508+2184456]\n\tOrdinal0 [0x00D15650+2184784]\n\tOrdinal0 [0x00D1F5BC+2225596]\n\tBaseThreadInitThunk [0x76417D59+25]\n\tRtlInitializeExceptionChain [0x77B3B79B+107]\n\tRtlClearBits [0x77B3B71F+191]\n",
     "output_type": "error",
     "traceback": [
      "\u001b[1;31m---------------------------------------------------------------------------\u001b[0m",
      "\u001b[1;31mSessionNotCreatedException\u001b[0m                Traceback (most recent call last)",
      "\u001b[1;32m<ipython-input-5-058317daae73>\u001b[0m in \u001b[0;36m<module>\u001b[1;34m\u001b[0m\n\u001b[1;32m----> 1\u001b[1;33m \u001b[0mdf\u001b[0m\u001b[1;33m=\u001b[0m\u001b[0mWeb_Scrapping\u001b[0m\u001b[1;33m(\u001b[0m\u001b[0murl\u001b[0m\u001b[1;33m)\u001b[0m\u001b[1;33m\u001b[0m\u001b[1;33m\u001b[0m\u001b[0m\n\u001b[0m\u001b[0;32m      2\u001b[0m \u001b[0mdf\u001b[0m\u001b[1;33m\u001b[0m\u001b[1;33m\u001b[0m\u001b[0m\n",
      "\u001b[1;32m<ipython-input-4-dec8a279c637>\u001b[0m in \u001b[0;36mWeb_Scrapping\u001b[1;34m(url)\u001b[0m\n\u001b[0;32m      1\u001b[0m \u001b[1;32mdef\u001b[0m \u001b[0mWeb_Scrapping\u001b[0m\u001b[1;33m(\u001b[0m\u001b[0murl\u001b[0m\u001b[1;33m)\u001b[0m\u001b[1;33m:\u001b[0m\u001b[1;33m\u001b[0m\u001b[1;33m\u001b[0m\u001b[0m\n\u001b[0;32m      2\u001b[0m     \u001b[1;31m#driver = webdriver.Chrome(ChromeDriverManager().install())\u001b[0m\u001b[1;33m\u001b[0m\u001b[1;33m\u001b[0m\u001b[1;33m\u001b[0m\u001b[0m\n\u001b[1;32m----> 3\u001b[1;33m     \u001b[0mdriver\u001b[0m \u001b[1;33m=\u001b[0m \u001b[0mwebdriver\u001b[0m\u001b[1;33m.\u001b[0m\u001b[0mChrome\u001b[0m\u001b[1;33m(\u001b[0m\u001b[1;34m'C:/Users/91981/Desktop/Python programs/chromedriver'\u001b[0m\u001b[1;33m)\u001b[0m\u001b[1;33m\u001b[0m\u001b[1;33m\u001b[0m\u001b[0m\n\u001b[0m\u001b[0;32m      4\u001b[0m     \u001b[0mdriver\u001b[0m\u001b[1;33m.\u001b[0m\u001b[0mget\u001b[0m\u001b[1;33m(\u001b[0m\u001b[0murl\u001b[0m\u001b[1;33m)\u001b[0m\u001b[1;33m\u001b[0m\u001b[1;33m\u001b[0m\u001b[0m\n\u001b[0;32m      5\u001b[0m     \u001b[0mtime\u001b[0m\u001b[1;33m.\u001b[0m\u001b[0msleep\u001b[0m\u001b[1;33m(\u001b[0m\u001b[1;36m2\u001b[0m\u001b[1;33m)\u001b[0m               \u001b[1;31m# Allow 2 seconds for the web page to open\u001b[0m\u001b[1;33m\u001b[0m\u001b[1;33m\u001b[0m\u001b[0m\n",
      "\u001b[1;32m~\\Anaconda3\\lib\\site-packages\\selenium\\webdriver\\chrome\\webdriver.py\u001b[0m in \u001b[0;36m__init__\u001b[1;34m(self, executable_path, port, options, service_args, desired_capabilities, service_log_path, chrome_options, service, keep_alive)\u001b[0m\n\u001b[0;32m     88\u001b[0m             \u001b[0mservice_log_path\u001b[0m\u001b[1;33m,\u001b[0m\u001b[1;33m\u001b[0m\u001b[1;33m\u001b[0m\u001b[0m\n\u001b[0;32m     89\u001b[0m             \u001b[0mservice\u001b[0m\u001b[1;33m,\u001b[0m\u001b[1;33m\u001b[0m\u001b[1;33m\u001b[0m\u001b[0m\n\u001b[1;32m---> 90\u001b[1;33m             \u001b[0mkeep_alive\u001b[0m\u001b[1;33m,\u001b[0m\u001b[1;33m\u001b[0m\u001b[1;33m\u001b[0m\u001b[0m\n\u001b[0m\u001b[0;32m     91\u001b[0m         )\n",
      "\u001b[1;32m~\\Anaconda3\\lib\\site-packages\\selenium\\webdriver\\chromium\\webdriver.py\u001b[0m in \u001b[0;36m__init__\u001b[1;34m(self, browser_name, vendor_prefix, port, options, service_args, desired_capabilities, service_log_path, service, keep_alive)\u001b[0m\n\u001b[0;32m    112\u001b[0m                     \u001b[0mignore_proxy\u001b[0m\u001b[1;33m=\u001b[0m\u001b[0m_ignore_proxy\u001b[0m\u001b[1;33m,\u001b[0m\u001b[1;33m\u001b[0m\u001b[1;33m\u001b[0m\u001b[0m\n\u001b[0;32m    113\u001b[0m                 ),\n\u001b[1;32m--> 114\u001b[1;33m                 \u001b[0moptions\u001b[0m\u001b[1;33m=\u001b[0m\u001b[0moptions\u001b[0m\u001b[1;33m,\u001b[0m\u001b[1;33m\u001b[0m\u001b[1;33m\u001b[0m\u001b[0m\n\u001b[0m\u001b[0;32m    115\u001b[0m             )\n\u001b[0;32m    116\u001b[0m         \u001b[1;32mexcept\u001b[0m \u001b[0mException\u001b[0m\u001b[1;33m:\u001b[0m\u001b[1;33m\u001b[0m\u001b[1;33m\u001b[0m\u001b[0m\n",
      "\u001b[1;32m~\\Anaconda3\\lib\\site-packages\\selenium\\webdriver\\remote\\webdriver.py\u001b[0m in \u001b[0;36m__init__\u001b[1;34m(self, command_executor, desired_capabilities, browser_profile, proxy, keep_alive, file_detector, options)\u001b[0m\n\u001b[0;32m    286\u001b[0m         \u001b[0mself\u001b[0m\u001b[1;33m.\u001b[0m\u001b[0m_authenticator_id\u001b[0m \u001b[1;33m=\u001b[0m \u001b[1;32mNone\u001b[0m\u001b[1;33m\u001b[0m\u001b[1;33m\u001b[0m\u001b[0m\n\u001b[0;32m    287\u001b[0m         \u001b[0mself\u001b[0m\u001b[1;33m.\u001b[0m\u001b[0mstart_client\u001b[0m\u001b[1;33m(\u001b[0m\u001b[1;33m)\u001b[0m\u001b[1;33m\u001b[0m\u001b[1;33m\u001b[0m\u001b[0m\n\u001b[1;32m--> 288\u001b[1;33m         \u001b[0mself\u001b[0m\u001b[1;33m.\u001b[0m\u001b[0mstart_session\u001b[0m\u001b[1;33m(\u001b[0m\u001b[0mcapabilities\u001b[0m\u001b[1;33m,\u001b[0m \u001b[0mbrowser_profile\u001b[0m\u001b[1;33m)\u001b[0m\u001b[1;33m\u001b[0m\u001b[1;33m\u001b[0m\u001b[0m\n\u001b[0m\u001b[0;32m    289\u001b[0m \u001b[1;33m\u001b[0m\u001b[0m\n\u001b[0;32m    290\u001b[0m     \u001b[1;32mdef\u001b[0m \u001b[0m__repr__\u001b[0m\u001b[1;33m(\u001b[0m\u001b[0mself\u001b[0m\u001b[1;33m)\u001b[0m\u001b[1;33m:\u001b[0m\u001b[1;33m\u001b[0m\u001b[1;33m\u001b[0m\u001b[0m\n",
      "\u001b[1;32m~\\Anaconda3\\lib\\site-packages\\selenium\\webdriver\\remote\\webdriver.py\u001b[0m in \u001b[0;36mstart_session\u001b[1;34m(self, capabilities, browser_profile)\u001b[0m\n\u001b[0;32m    379\u001b[0m         \u001b[0mw3c_caps\u001b[0m \u001b[1;33m=\u001b[0m \u001b[0m_make_w3c_caps\u001b[0m\u001b[1;33m(\u001b[0m\u001b[0mcapabilities\u001b[0m\u001b[1;33m)\u001b[0m\u001b[1;33m\u001b[0m\u001b[1;33m\u001b[0m\u001b[0m\n\u001b[0;32m    380\u001b[0m         \u001b[0mparameters\u001b[0m \u001b[1;33m=\u001b[0m \u001b[1;33m{\u001b[0m\u001b[1;34m\"capabilities\"\u001b[0m\u001b[1;33m:\u001b[0m \u001b[0mw3c_caps\u001b[0m\u001b[1;33m}\u001b[0m\u001b[1;33m\u001b[0m\u001b[1;33m\u001b[0m\u001b[0m\n\u001b[1;32m--> 381\u001b[1;33m         \u001b[0mresponse\u001b[0m \u001b[1;33m=\u001b[0m \u001b[0mself\u001b[0m\u001b[1;33m.\u001b[0m\u001b[0mexecute\u001b[0m\u001b[1;33m(\u001b[0m\u001b[0mCommand\u001b[0m\u001b[1;33m.\u001b[0m\u001b[0mNEW_SESSION\u001b[0m\u001b[1;33m,\u001b[0m \u001b[0mparameters\u001b[0m\u001b[1;33m)\u001b[0m\u001b[1;33m\u001b[0m\u001b[1;33m\u001b[0m\u001b[0m\n\u001b[0m\u001b[0;32m    382\u001b[0m         \u001b[1;32mif\u001b[0m \u001b[1;34m\"sessionId\"\u001b[0m \u001b[1;32mnot\u001b[0m \u001b[1;32min\u001b[0m \u001b[0mresponse\u001b[0m\u001b[1;33m:\u001b[0m\u001b[1;33m\u001b[0m\u001b[1;33m\u001b[0m\u001b[0m\n\u001b[0;32m    383\u001b[0m             \u001b[0mresponse\u001b[0m \u001b[1;33m=\u001b[0m \u001b[0mresponse\u001b[0m\u001b[1;33m[\u001b[0m\u001b[1;34m\"value\"\u001b[0m\u001b[1;33m]\u001b[0m\u001b[1;33m\u001b[0m\u001b[1;33m\u001b[0m\u001b[0m\n",
      "\u001b[1;32m~\\Anaconda3\\lib\\site-packages\\selenium\\webdriver\\remote\\webdriver.py\u001b[0m in \u001b[0;36mexecute\u001b[1;34m(self, driver_command, params)\u001b[0m\n\u001b[0;32m    442\u001b[0m         \u001b[0mresponse\u001b[0m \u001b[1;33m=\u001b[0m \u001b[0mself\u001b[0m\u001b[1;33m.\u001b[0m\u001b[0mcommand_executor\u001b[0m\u001b[1;33m.\u001b[0m\u001b[0mexecute\u001b[0m\u001b[1;33m(\u001b[0m\u001b[0mdriver_command\u001b[0m\u001b[1;33m,\u001b[0m \u001b[0mparams\u001b[0m\u001b[1;33m)\u001b[0m\u001b[1;33m\u001b[0m\u001b[1;33m\u001b[0m\u001b[0m\n\u001b[0;32m    443\u001b[0m         \u001b[1;32mif\u001b[0m \u001b[0mresponse\u001b[0m\u001b[1;33m:\u001b[0m\u001b[1;33m\u001b[0m\u001b[1;33m\u001b[0m\u001b[0m\n\u001b[1;32m--> 444\u001b[1;33m             \u001b[0mself\u001b[0m\u001b[1;33m.\u001b[0m\u001b[0merror_handler\u001b[0m\u001b[1;33m.\u001b[0m\u001b[0mcheck_response\u001b[0m\u001b[1;33m(\u001b[0m\u001b[0mresponse\u001b[0m\u001b[1;33m)\u001b[0m\u001b[1;33m\u001b[0m\u001b[1;33m\u001b[0m\u001b[0m\n\u001b[0m\u001b[0;32m    445\u001b[0m             \u001b[0mresponse\u001b[0m\u001b[1;33m[\u001b[0m\u001b[1;34m\"value\"\u001b[0m\u001b[1;33m]\u001b[0m \u001b[1;33m=\u001b[0m \u001b[0mself\u001b[0m\u001b[1;33m.\u001b[0m\u001b[0m_unwrap_value\u001b[0m\u001b[1;33m(\u001b[0m\u001b[0mresponse\u001b[0m\u001b[1;33m.\u001b[0m\u001b[0mget\u001b[0m\u001b[1;33m(\u001b[0m\u001b[1;34m\"value\"\u001b[0m\u001b[1;33m,\u001b[0m \u001b[1;32mNone\u001b[0m\u001b[1;33m)\u001b[0m\u001b[1;33m)\u001b[0m\u001b[1;33m\u001b[0m\u001b[1;33m\u001b[0m\u001b[0m\n\u001b[0;32m    446\u001b[0m             \u001b[1;32mreturn\u001b[0m \u001b[0mresponse\u001b[0m\u001b[1;33m\u001b[0m\u001b[1;33m\u001b[0m\u001b[0m\n",
      "\u001b[1;32m~\\Anaconda3\\lib\\site-packages\\selenium\\webdriver\\remote\\errorhandler.py\u001b[0m in \u001b[0;36mcheck_response\u001b[1;34m(self, response)\u001b[0m\n\u001b[0;32m    247\u001b[0m                 \u001b[0malert_text\u001b[0m \u001b[1;33m=\u001b[0m \u001b[0mvalue\u001b[0m\u001b[1;33m[\u001b[0m\u001b[1;34m\"alert\"\u001b[0m\u001b[1;33m]\u001b[0m\u001b[1;33m.\u001b[0m\u001b[0mget\u001b[0m\u001b[1;33m(\u001b[0m\u001b[1;34m\"text\"\u001b[0m\u001b[1;33m)\u001b[0m\u001b[1;33m\u001b[0m\u001b[1;33m\u001b[0m\u001b[0m\n\u001b[0;32m    248\u001b[0m             \u001b[1;32mraise\u001b[0m \u001b[0mexception_class\u001b[0m\u001b[1;33m(\u001b[0m\u001b[0mmessage\u001b[0m\u001b[1;33m,\u001b[0m \u001b[0mscreen\u001b[0m\u001b[1;33m,\u001b[0m \u001b[0mstacktrace\u001b[0m\u001b[1;33m,\u001b[0m \u001b[0malert_text\u001b[0m\u001b[1;33m)\u001b[0m  \u001b[1;31m# type: ignore[call-arg]  # mypy is not smart enough here\u001b[0m\u001b[1;33m\u001b[0m\u001b[1;33m\u001b[0m\u001b[0m\n\u001b[1;32m--> 249\u001b[1;33m         \u001b[1;32mraise\u001b[0m \u001b[0mexception_class\u001b[0m\u001b[1;33m(\u001b[0m\u001b[0mmessage\u001b[0m\u001b[1;33m,\u001b[0m \u001b[0mscreen\u001b[0m\u001b[1;33m,\u001b[0m \u001b[0mstacktrace\u001b[0m\u001b[1;33m)\u001b[0m\u001b[1;33m\u001b[0m\u001b[1;33m\u001b[0m\u001b[0m\n\u001b[0m",
      "\u001b[1;31mSessionNotCreatedException\u001b[0m: Message: session not created: This version of ChromeDriver only supports Chrome version 98\nCurrent browser version is 116.0.5845.96 with binary path C:\\Program Files (x86)\\Google\\Chrome\\Application\\chrome.exe\nStacktrace:\nBacktrace:\n\tOrdinal0 [0x00D77AC3+2587331]\n\tOrdinal0 [0x00D0ADD1+2141649]\n\tOrdinal0 [0x00C03BB8+1063864]\n\tOrdinal0 [0x00C23638+1193528]\n\tOrdinal0 [0x00C1F4B5+1176757]\n\tOrdinal0 [0x00C1CC51+1166417]\n\tOrdinal0 [0x00C4D12F+1364271]\n\tOrdinal0 [0x00C4CD5A+1363290]\n\tOrdinal0 [0x00C484A6+1344678]\n\tOrdinal0 [0x00C253F6+1201142]\n\tOrdinal0 [0x00C262E6+1204966]\n\tGetHandleVerifier [0x00F1DF22+1680738]\n\tGetHandleVerifier [0x00FD0DBC+2413564]\n\tGetHandleVerifier [0x00E0D151+563089]\n\tGetHandleVerifier [0x00E0BF13+558419]\n\tOrdinal0 [0x00D1081E+2164766]\n\tOrdinal0 [0x00D15508+2184456]\n\tOrdinal0 [0x00D15650+2184784]\n\tOrdinal0 [0x00D1F5BC+2225596]\n\tBaseThreadInitThunk [0x76417D59+25]\n\tRtlInitializeExceptionChain [0x77B3B79B+107]\n\tRtlClearBits [0x77B3B71F+191]\n"
     ]
    }
   ],
   "source": [
    "df=Web_Scrapping(url)\n",
    "df"
   ]
  },
  {
   "cell_type": "code",
   "execution_count": null,
   "metadata": {},
   "outputs": [],
   "source": [
    "df.to_csv(\"Cars24.csv\")"
   ]
  },
  {
   "cell_type": "markdown",
   "metadata": {},
   "source": [
    "### Step 2: Data Analysis"
   ]
  },
  {
   "cell_type": "markdown",
   "metadata": {},
   "source": [
    "Main Libraries Used: Python, Matplotlib, Seaborn"
   ]
  },
  {
   "cell_type": "code",
   "execution_count": null,
   "metadata": {},
   "outputs": [],
   "source": [
    "import matplotlib.pyplot as plt\n",
    "import matplotlib\n",
    "import seaborn as sns\n",
    "import pandas as pd"
   ]
  },
  {
   "cell_type": "code",
   "execution_count": null,
   "metadata": {},
   "outputs": [],
   "source": [
    "df=pd.read_csv(\"Cars24.csv\")\n",
    "df=df.drop([\"Unnamed: 0\"],axis=1)\n",
    "df"
   ]
  },
  {
   "cell_type": "code",
   "execution_count": null,
   "metadata": {},
   "outputs": [],
   "source": [
    "df.info()"
   ]
  },
  {
   "cell_type": "code",
   "execution_count": null,
   "metadata": {},
   "outputs": [],
   "source": [
    "plt.figure(figsize=(15,6))\n",
    "sns.countplot(x=\"Brand\",data=df).set_title('Number of Cars per Brand')"
   ]
  },
  {
   "cell_type": "code",
   "execution_count": null,
   "metadata": {},
   "outputs": [],
   "source": [
    "plt.figure(figsize=(17,8))\n",
    "sns.jointplot(x=\"Distance Travelled(km)\",y=\"Price(Rs)\",data=df)"
   ]
  },
  {
   "cell_type": "code",
   "execution_count": null,
   "metadata": {},
   "outputs": [],
   "source": [
    "fig, axes = plt.subplots(1, 3, figsize=(15, 5))\n",
    "fig.suptitle('Effect of Transmission, Ownership, Fuel on Price of Car')\n",
    "sns.boxplot(ax=axes[0], data=df, x='Transmission', y='Price(Rs)')\n",
    "sns.boxplot(ax=axes[1], data=df, x='Ownership', y='Price(Rs)')\n",
    "sns.boxplot(ax=axes[2], data=df, x='Fuel', y='Price(Rs)')"
   ]
  },
  {
   "cell_type": "code",
   "execution_count": null,
   "metadata": {},
   "outputs": [],
   "source": [
    "plt.figure(figsize=(13,6))\n",
    "sns.pointplot(x=\"Year of Manufacture\",y=\"Price(Rs)\",data=df).set_title('Year of Manufacture vs Price')"
   ]
  },
  {
   "cell_type": "code",
   "execution_count": null,
   "metadata": {},
   "outputs": [],
   "source": [
    "plt.figure(figsize=(18,6))\n",
    "sns.boxplot(data=df, x='Brand', y='Price(Rs)').set_title('Brand vs Price')"
   ]
  },
  {
   "cell_type": "markdown",
   "metadata": {},
   "source": [
    "### Step 3: Data Modelling"
   ]
  },
  {
   "cell_type": "markdown",
   "metadata": {},
   "source": [
    "Libraries Used: Scikit-Learn"
   ]
  },
  {
   "cell_type": "code",
   "execution_count": null,
   "metadata": {
    "scrolled": true
   },
   "outputs": [],
   "source": [
    "import warnings\n",
    "warnings.filterwarnings('ignore')\n",
    "\n",
    "df[\"Transmission\"]=df[\"Transmission\"].map({\"Manual\":0,\"Automatic\":1})\n",
    "o={\"1st Owner\":0,\"2nd Owner\":0.5,\"3rd Owner\":1}\n",
    "df[\"Ownership\"]=df[\"Ownership\"].map(o)\n",
    "df[\"Fuel\"]=df[\"Fuel\"].map({\"Petrol\":0,\"Diesel\":0.5,\"CNG\":1})\n",
    "\n",
    "input_col=[\"Year of Manufacture\",\"Brand\",\"Name\",\"Transmission\",\"Distance Travelled(km)\",\"Ownership\",\"Fuel\"]\n",
    "num_col=[\"Year of Manufacture\",\"Distance Travelled(km)\"]\n",
    "cat_col=[\"Brand\",\"Name\"]\n",
    "\n",
    "from sklearn.preprocessing import MinMaxScaler\n",
    "scaler = MinMaxScaler().fit(df[num_col])\n",
    "df[num_col]=scaler.transform(df[num_col])\n",
    "\n",
    "from sklearn.preprocessing import OneHotEncoder\n",
    "encoder = OneHotEncoder(sparse=False, handle_unknown='ignore').fit(df[cat_col])\n",
    "encoded_cols = list(encoder.get_feature_names(cat_col))\n",
    "df[encoded_cols] = encoder.transform(df[cat_col])\n",
    "\n",
    "data=df[[\"Year of Manufacture\",\"Transmission\",\"Distance Travelled(km)\",\"Ownership\",\"Fuel\"]+encoded_cols]\n",
    "data"
   ]
  },
  {
   "cell_type": "code",
   "execution_count": null,
   "metadata": {},
   "outputs": [],
   "source": [
    "target=df[['Price(Rs)']]\n",
    "target"
   ]
  },
  {
   "cell_type": "markdown",
   "metadata": {},
   "source": [
    "### Step 4: Applying Gradient Boosting Method"
   ]
  },
  {
   "cell_type": "markdown",
   "metadata": {},
   "source": [
    "Libraries Used: Scikit-Learn, XGBoost"
   ]
  },
  {
   "cell_type": "code",
   "execution_count": null,
   "metadata": {},
   "outputs": [],
   "source": [
    "from sklearn.model_selection import train_test_split\n",
    "from xgboost import XGBRegressor\n",
    "X_train, X_val, train_targets, val_targets = train_test_split(data, target, test_size=0.2)"
   ]
  },
  {
   "cell_type": "code",
   "execution_count": null,
   "metadata": {},
   "outputs": [],
   "source": [
    "def Accuracy_RMSE(target,preds):\n",
    "    target[\"Prediction\"]=preds\n",
    "    target[\"Accuracy\"]=100-(abs(((target[\"Prediction\"]-target[\"Price(Rs)\"])/target[\"Price(Rs)\"])*100))\n",
    "    target[\"Squared Difference\"]=(abs(target[\"Prediction\"]-target[\"Price(Rs)\"]))**2\n",
    "    a,b=target[\"Accuracy\"].mean(),(target[\"Squared Difference\"].mean())**(0.5)\n",
    "    target.drop([\"Prediction\",\"Accuracy\",\"Squared Difference\"],axis=1)\n",
    "    return a,b\n",
    "\n",
    "def test_maxdepth(x):\n",
    "    val_rmse=[]\n",
    "    val_accuracy=[]\n",
    "    train_rmse=[]\n",
    "    train_accuracy=[]\n",
    "    for i in range(4,31,2):\n",
    "        model = XGBRegressor(n_jobs=-1, random_state=42,n_estimators=x, max_depth=i)\n",
    "        model.fit(X_train, train_targets[[\"Price(Rs)\"]])\n",
    "        a,b=Accuracy_RMSE(train_targets[[\"Price(Rs)\"]],model.predict(X_train))\n",
    "        c,d=Accuracy_RMSE(val_targets[[\"Price(Rs)\"]],model.predict(X_val))\n",
    "        val_rmse.append(d)\n",
    "        val_accuracy.append(c)\n",
    "        train_rmse.append(b)\n",
    "        train_accuracy.append(a)\n",
    "    fig, axes = plt.subplots(1, 2, figsize=(12, 5))\n",
    "    fig.suptitle('Comparing RMSE and Accuracy')\n",
    "    sns.lineplot(ax=axes[0], x=list(range(4,31,2)), y=val_rmse,label=\"Validation\").set_title(\"RMSE\")\n",
    "    sns.lineplot(ax=axes[1], x=list(range(4,31,2)), y=val_accuracy,label=\"Validation\").set_title(\"Accuracy\")\n",
    "    sns.lineplot(ax=axes[0], x=list(range(4,31,2)), y=train_rmse,label=\"Train\").set_title(\"RMSE\")\n",
    "    sns.lineplot(ax=axes[1], x=list(range(4,31,2)), y=train_accuracy,label=\"Train\").set_title(\"Accuracy\")"
   ]
  },
  {
   "cell_type": "code",
   "execution_count": null,
   "metadata": {},
   "outputs": [],
   "source": [
    "for x in range(5,26,5):\n",
    "    print(\"n_estimators=\",x)\n",
    "    test_maxdepth(x)"
   ]
  },
  {
   "cell_type": "code",
   "execution_count": null,
   "metadata": {},
   "outputs": [],
   "source": [
    "model = XGBRegressor(n_jobs=-1, random_state=42,n_estimators=20, max_depth=20)\n",
    "model.fit(X_train, train_targets[[\"Price(Rs)\"]])\n",
    "preds = model.predict(X_val)\n",
    "Accuracy_RMSE(val_targets[[\"Price(Rs)\"]],preds)"
   ]
  },
  {
   "cell_type": "markdown",
   "metadata": {},
   "source": [
    "### Step 5: Predicting Car Price"
   ]
  },
  {
   "cell_type": "code",
   "execution_count": null,
   "metadata": {},
   "outputs": [],
   "source": [
    "import warnings\n",
    "warnings.filterwarnings('ignore')\n",
    "\n",
    "print(\"Input Details\")\n",
    "Name=input(\"Car Name:\")\n",
    "Brand=input(\"Car Brand:\")\n",
    "Year=int(input(\"Year of Manufacture:\"))\n",
    "Distance=int(input(\"Distance Travelled(km):\"))\n",
    "Ownership=input(\"Ownership:\")\n",
    "Transmission=input(\"Manual/Automatic:\")\n",
    "Fuel=input(\"Fuel Type:\")\n",
    "\n",
    "data = {\n",
    "    'Year of Manufacture': [Year],\n",
    "    'Brand': [Brand],\n",
    "    'Name': [Brand+\" \"+Name],\n",
    "    'Transmission': [Transmission],\n",
    "    'Distance Travelled(km)': [Distance],\n",
    "    'Ownership': [Ownership],\n",
    "    'Fuel': [Fuel]\n",
    "}\n",
    "\n",
    "df = pd.DataFrame(data)\n",
    "\n",
    "df[\"Transmission\"]=df[\"Transmission\"].map({\"Manual\":0,\"Automatic\":1})\n",
    "o={\"1st Owner\":0,\"2nd Owner\":0.5,\"3rd Owner\":1}\n",
    "df[\"Ownership\"]=df[\"Ownership\"].map(o)\n",
    "df[\"Fuel\"]=df[\"Fuel\"].map({\"Petrol\":0,\"Diesel\":0.5,\"CNG\":1})\n",
    "\n",
    "input_col=[\"Year of Manufacture\",\"Brand\",\"Name\",\"Transmission\",\"Distance Travelled(km)\",\"Ownership\",\"Fuel\"]\n",
    "num_col=[\"Year of Manufacture\",\"Distance Travelled(km)\"]\n",
    "cat_col=[\"Brand\",\"Name\"]\n",
    "\n",
    "df[num_col]=scaler.transform(df[num_col])\n",
    "\n",
    "df[encoded_cols] = encoder.transform(df[cat_col])\n",
    "\n",
    "data=df[[\"Year of Manufacture\",\"Transmission\",\"Distance Travelled(km)\",\"Ownership\",\"Fuel\"]+encoded_cols]\n",
    "\n",
    "price=list(model.predict(data))[0]\n",
    "print(\"\\n\\n\\nPrice of Car: Rs\",price)"
   ]
  }
 ],
 "metadata": {
  "kernelspec": {
   "display_name": "Python 3",
   "language": "python",
   "name": "python3"
  },
  "language_info": {
   "codemirror_mode": {
    "name": "ipython",
    "version": 3
   },
   "file_extension": ".py",
   "mimetype": "text/x-python",
   "name": "python",
   "nbconvert_exporter": "python",
   "pygments_lexer": "ipython3",
   "version": "3.7.4"
  }
 },
 "nbformat": 4,
 "nbformat_minor": 2
}
